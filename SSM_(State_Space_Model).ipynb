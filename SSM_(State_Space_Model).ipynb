{
  "nbformat": 4,
  "nbformat_minor": 0,
  "metadata": {
    "colab": {
      "provenance": [],
      "authorship_tag": "ABX9TyPh3Qr6U2EUMcdB1GZjWy5Z",
      "include_colab_link": true
    },
    "kernelspec": {
      "name": "python3",
      "display_name": "Python 3"
    },
    "language_info": {
      "name": "python"
    }
  },
  "cells": [
    {
      "cell_type": "markdown",
      "metadata": {
        "id": "view-in-github",
        "colab_type": "text"
      },
      "source": [
        "<a href=\"https://colab.research.google.com/github/monikagulia1/STATE-SPACE-MODEL/blob/main/SSM_(State_Space_Model).ipynb\" target=\"_parent\"><img src=\"https://colab.research.google.com/assets/colab-badge.svg\" alt=\"Open In Colab\"/></a>"
      ]
    },
    {
      "cell_type": "code",
      "source": [
        "import torch\n",
        "import torch.nn as nn\n",
        "\n",
        "class SSM(nn.Module):\n",
        "    def __init__(self, input_dim, hidden_dim, output_dim):\n",
        "        super(SSM, self).__init__()\n",
        "        self.input_dim = input_dim\n",
        "        self.hidden_dim = hidden_dim\n",
        "        self.output_dim = output_dim\n",
        "\n",
        "        # Define the matrices for the state transition and output\n",
        "        self.A = nn.Parameter(torch.randn(hidden_dim, hidden_dim))  # State transition matrix\n",
        "        self.B = nn.Parameter(torch.randn(hidden_dim, input_dim))  # Input matrix\n",
        "        self.C = nn.Parameter(torch.randn(output_dim, hidden_dim))  # Output matrix\n",
        "        self.D = nn.Parameter(torch.randn(output_dim, input_dim))  # Direct input matrix\n",
        "\n",
        "    def forward(self, x, state):\n",
        "        # x: input tensor of shape (batch_size, input_dim)\n",
        "        # state: previous state tensor of shape (batch_size, hidden_dim)\n",
        "\n",
        "        # Calculate the next state\n",
        "        next_state = torch.matmul(state, self.A) + torch.matmul(x, self.B.t())\n",
        "\n",
        "        # Calculate the output\n",
        "        output = torch.matmul(next_state, self.C.t()) + torch.matmul(x, self.D.t())\n",
        "\n",
        "        return output, next_state\n",
        "\n",
        "# Example parameters\n",
        "input_dim = 10\n",
        "hidden_dim = 20\n",
        "output_dim = 5\n",
        "batch_size = 32\n",
        "seq_length = 20\n",
        "learning_rate = 0.001\n",
        "num_epochs = 10\n",
        "\n",
        "# Initialize the SSM model\n",
        "model = SSM(input_dim, hidden_dim, output_dim)\n",
        "\n",
        "# Define a loss function and optimizer\n",
        "criterion = nn.MSELoss()  # Mean Squared Error Loss\n",
        "optimizer = torch.optim.Adam(model.parameters(), lr=learning_rate)\n",
        "\n",
        "# Generate some dummy data\n",
        "input_data = torch.randn(batch_size, seq_length, input_dim)\n",
        "target_data = torch.randn(batch_size, seq_length, output_dim)\n",
        "\n",
        "# Training loop\n",
        "for epoch in range(num_epochs):\n",
        "    # Initialize the hidden state\n",
        "    hidden_state = torch.zeros(batch_size, hidden_dim)\n",
        "\n",
        "    # Forward pass\n",
        "    outputs = []\n",
        "    for t in range(seq_length):\n",
        "        # Get the input for the current time step\n",
        "        x = input_data[:, t, :]\n",
        "\n",
        "        # Pass the input and previous state to the model\n",
        "        output, hidden_state = model(x, hidden_state)\n",
        "        outputs.append(output)\n",
        "\n",
        "    # Stack the outputs\n",
        "    outputs = torch.stack(outputs, dim=1)\n",
        "\n",
        "    # Calculate the loss\n",
        "    loss = criterion(outputs, target_data)\n",
        "\n",
        "    # Backpropagation\n",
        "    optimizer.zero_grad()\n",
        "    loss.backward()\n",
        "    optimizer.step()\n",
        "\n",
        "    print(f\"Epoch {epoch+1}, Loss: {loss.item()}\")\n"
      ],
      "metadata": {
        "colab": {
          "base_uri": "https://localhost:8080/"
        },
        "id": "PX7Y-RLXazqM",
        "outputId": "48efb5ac-54da-47d7-f850-abcc5958277e"
      },
      "execution_count": 96,
      "outputs": [
        {
          "output_type": "stream",
          "name": "stdout",
          "text": [
            "Epoch 1, Loss: 1.001483881470932e+25\n",
            "Epoch 2, Loss: 1.001484112055233e+25\n",
            "Epoch 3, Loss: 1.0014836508866312e+25\n",
            "Epoch 4, Loss: 1.0014842273473835e+25\n",
            "Epoch 5, Loss: 1.0014837661787816e+25\n",
            "Epoch 6, Loss: 1.0014837661787816e+25\n",
            "Epoch 7, Loss: 1.001483881470932e+25\n",
            "Epoch 8, Loss: 1.001484112055233e+25\n",
            "Epoch 9, Loss: 1.0014837661787816e+25\n",
            "Epoch 10, Loss: 1.0014836508866312e+25\n"
          ]
        }
      ]
    },
    {
      "cell_type": "code",
      "source": [],
      "metadata": {
        "id": "7Vbm9d2h0OCg"
      },
      "execution_count": null,
      "outputs": []
    }
  ]
}